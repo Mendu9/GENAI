{
 "cells": [
  {
   "cell_type": "code",
   "execution_count": 6,
   "id": "f6580382",
   "metadata": {},
   "outputs": [],
   "source": [
    "import pandas as pd\n",
    "import os"
   ]
  },
  {
   "cell_type": "code",
   "execution_count": 52,
   "id": "2c52f94d",
   "metadata": {},
   "outputs": [],
   "source": [
    "data=pd.read_csv(\"https://raw.githubusercontent.com/Ankit152/IMDB-sentiment-analysis/master/IMDB-Dataset.csv\")"
   ]
  },
  {
   "cell_type": "code",
   "execution_count": 53,
   "id": "cc3a3e96",
   "metadata": {},
   "outputs": [
    {
     "data": {
      "text/html": [
       "<div>\n",
       "<style scoped>\n",
       "    .dataframe tbody tr th:only-of-type {\n",
       "        vertical-align: middle;\n",
       "    }\n",
       "\n",
       "    .dataframe tbody tr th {\n",
       "        vertical-align: top;\n",
       "    }\n",
       "\n",
       "    .dataframe thead th {\n",
       "        text-align: right;\n",
       "    }\n",
       "</style>\n",
       "<table border=\"1\" class=\"dataframe\">\n",
       "  <thead>\n",
       "    <tr style=\"text-align: right;\">\n",
       "      <th></th>\n",
       "      <th>review</th>\n",
       "      <th>sentiment</th>\n",
       "    </tr>\n",
       "  </thead>\n",
       "  <tbody>\n",
       "    <tr>\n",
       "      <th>0</th>\n",
       "      <td>One of the other reviewers has mentioned that ...</td>\n",
       "      <td>positive</td>\n",
       "    </tr>\n",
       "    <tr>\n",
       "      <th>1</th>\n",
       "      <td>A wonderful little production. &lt;br /&gt;&lt;br /&gt;The...</td>\n",
       "      <td>positive</td>\n",
       "    </tr>\n",
       "    <tr>\n",
       "      <th>2</th>\n",
       "      <td>I thought this was a wonderful way to spend ti...</td>\n",
       "      <td>positive</td>\n",
       "    </tr>\n",
       "    <tr>\n",
       "      <th>3</th>\n",
       "      <td>Basically there's a family where a little boy ...</td>\n",
       "      <td>negative</td>\n",
       "    </tr>\n",
       "    <tr>\n",
       "      <th>4</th>\n",
       "      <td>Petter Mattei's \"Love in the Time of Money\" is...</td>\n",
       "      <td>positive</td>\n",
       "    </tr>\n",
       "  </tbody>\n",
       "</table>\n",
       "</div>"
      ],
      "text/plain": [
       "                                              review sentiment\n",
       "0  One of the other reviewers has mentioned that ...  positive\n",
       "1  A wonderful little production. <br /><br />The...  positive\n",
       "2  I thought this was a wonderful way to spend ti...  positive\n",
       "3  Basically there's a family where a little boy ...  negative\n",
       "4  Petter Mattei's \"Love in the Time of Money\" is...  positive"
      ]
     },
     "execution_count": 53,
     "metadata": {},
     "output_type": "execute_result"
    }
   ],
   "source": [
    "data.head()"
   ]
  },
  {
   "cell_type": "code",
   "execution_count": 54,
   "id": "25651961",
   "metadata": {},
   "outputs": [
    {
     "data": {
      "text/plain": [
       "\"One of the other reviewers has mentioned that after watching just 1 Oz episode you'll be hooked. They are right, as this is exactly what happened with me.<br /><br />The first thing that struck me about Oz was its brutality and unflinching scenes of violence, which set in right from the word GO. Trust me, this is not a show for the faint hearted or timid. This show pulls no punches with regards to drugs, sex or violence. Its is hardcore, in the classic use of the word.<br /><br />It is called OZ as that is the nickname given to the Oswald Maximum Security State Penitentary. It focuses mainly on Emerald City, an experimental section of the prison where all the cells have glass fronts and face inwards, so privacy is not high on the agenda. Em City is home to many..Aryans, Muslims, gangstas, Latinos, Christians, Italians, Irish and more....so scuffles, death stares, dodgy dealings and shady agreements are never far away.<br /><br />I would say the main appeal of the show is due to the fact that it goes where other shows wouldn't dare. Forget pretty pictures painted for mainstream audiences, forget charm, forget romance...OZ doesn't mess around. The first episode I ever saw struck me as so nasty it was surreal, I couldn't say I was ready for it, but as I watched more, I developed a taste for Oz, and got accustomed to the high levels of graphic violence. Not just violence, but injustice (crooked guards who'll be sold out for a nickel, inmates who'll kill on order and get away with it, well mannered, middle class inmates being turned into prison bitches due to their lack of street skills or prison experience) Watching Oz, you may become comfortable with what is uncomfortable viewing....thats if you can get in touch with your darker side.\""
      ]
     },
     "execution_count": 54,
     "metadata": {},
     "output_type": "execute_result"
    }
   ],
   "source": [
    "data['review'][0]"
   ]
  },
  {
   "cell_type": "code",
   "execution_count": 55,
   "id": "ad0cca5d",
   "metadata": {},
   "outputs": [
    {
     "data": {
      "text/plain": [
       "0        one of the other reviewers has mentioned that ...\n",
       "1        a wonderful little production. <br /><br />the...\n",
       "2        i thought this was a wonderful way to spend ti...\n",
       "3        basically there's a family where a little boy ...\n",
       "4        petter mattei's \"love in the time of money\" is...\n",
       "                               ...                        \n",
       "49995    i thought this movie did a down right good job...\n",
       "49996    bad plot, bad dialogue, bad acting, idiotic di...\n",
       "49997    i am a catholic taught in parochial elementary...\n",
       "49998    i'm going to have to disagree with the previou...\n",
       "49999    no one expects the star trek movies to be high...\n",
       "Name: review, Length: 50000, dtype: object"
      ]
     },
     "execution_count": 55,
     "metadata": {},
     "output_type": "execute_result"
    }
   ],
   "source": [
    "data['review'].str.lower()"
   ]
  },
  {
   "cell_type": "code",
   "execution_count": 56,
   "id": "fbab8042",
   "metadata": {},
   "outputs": [],
   "source": [
    "import re"
   ]
  },
  {
   "cell_type": "code",
   "execution_count": 57,
   "id": "a81dfabc",
   "metadata": {},
   "outputs": [],
   "source": [
    "def rmv_html_tags(txt):\n",
    "    pattern=re.compile('<.*?>')\n",
    "    return pattern.sub(\"\",txt)"
   ]
  },
  {
   "cell_type": "code",
   "execution_count": 58,
   "id": "e8f278f0",
   "metadata": {},
   "outputs": [
    {
     "data": {
      "text/plain": [
       "'A wonderful little production. The filming technique is very unassuming- very old-time-BBC fashion and gives a comforting, and sometimes discomforting, sense of realism to the entire piece. The actors are extremely well chosen- Michael Sheen not only \"has got all the polari\" but he has all the voices down pat too! You can truly see the seamless editing guided by the references to Williams\\' diary entries, not only is it well worth the watching but it is a terrificly written and performed piece. A masterful production about one of the great master\\'s of comedy and his life. The realism really comes home with the little things: the fantasy of the guard which, rather than use the traditional \\'dream\\' techniques remains solid then disappears. It plays on our knowledge and our senses, particularly with the scenes concerning Orton and Halliwell and the sets (particularly of their flat with Halliwell\\'s murals decorating every surface) are terribly well done.'"
      ]
     },
     "execution_count": 58,
     "metadata": {},
     "output_type": "execute_result"
    }
   ],
   "source": [
    "txt1=data['review'][1]\n",
    "rmv_html_tags(txt1)"
   ]
  },
  {
   "cell_type": "code",
   "execution_count": 59,
   "id": "7ddfb06e",
   "metadata": {},
   "outputs": [],
   "source": [
    "data['review']=data['review'].apply(rmv_html_tags)"
   ]
  },
  {
   "cell_type": "code",
   "execution_count": 60,
   "id": "9d5b934c",
   "metadata": {},
   "outputs": [
    {
     "data": {
      "text/html": [
       "<div>\n",
       "<style scoped>\n",
       "    .dataframe tbody tr th:only-of-type {\n",
       "        vertical-align: middle;\n",
       "    }\n",
       "\n",
       "    .dataframe tbody tr th {\n",
       "        vertical-align: top;\n",
       "    }\n",
       "\n",
       "    .dataframe thead th {\n",
       "        text-align: right;\n",
       "    }\n",
       "</style>\n",
       "<table border=\"1\" class=\"dataframe\">\n",
       "  <thead>\n",
       "    <tr style=\"text-align: right;\">\n",
       "      <th></th>\n",
       "      <th>review</th>\n",
       "      <th>sentiment</th>\n",
       "    </tr>\n",
       "  </thead>\n",
       "  <tbody>\n",
       "    <tr>\n",
       "      <th>0</th>\n",
       "      <td>One of the other reviewers has mentioned that ...</td>\n",
       "      <td>positive</td>\n",
       "    </tr>\n",
       "    <tr>\n",
       "      <th>1</th>\n",
       "      <td>A wonderful little production. The filming tec...</td>\n",
       "      <td>positive</td>\n",
       "    </tr>\n",
       "    <tr>\n",
       "      <th>2</th>\n",
       "      <td>I thought this was a wonderful way to spend ti...</td>\n",
       "      <td>positive</td>\n",
       "    </tr>\n",
       "    <tr>\n",
       "      <th>3</th>\n",
       "      <td>Basically there's a family where a little boy ...</td>\n",
       "      <td>negative</td>\n",
       "    </tr>\n",
       "    <tr>\n",
       "      <th>4</th>\n",
       "      <td>Petter Mattei's \"Love in the Time of Money\" is...</td>\n",
       "      <td>positive</td>\n",
       "    </tr>\n",
       "    <tr>\n",
       "      <th>...</th>\n",
       "      <td>...</td>\n",
       "      <td>...</td>\n",
       "    </tr>\n",
       "    <tr>\n",
       "      <th>49995</th>\n",
       "      <td>I thought this movie did a down right good job...</td>\n",
       "      <td>positive</td>\n",
       "    </tr>\n",
       "    <tr>\n",
       "      <th>49996</th>\n",
       "      <td>Bad plot, bad dialogue, bad acting, idiotic di...</td>\n",
       "      <td>negative</td>\n",
       "    </tr>\n",
       "    <tr>\n",
       "      <th>49997</th>\n",
       "      <td>I am a Catholic taught in parochial elementary...</td>\n",
       "      <td>negative</td>\n",
       "    </tr>\n",
       "    <tr>\n",
       "      <th>49998</th>\n",
       "      <td>I'm going to have to disagree with the previou...</td>\n",
       "      <td>negative</td>\n",
       "    </tr>\n",
       "    <tr>\n",
       "      <th>49999</th>\n",
       "      <td>No one expects the Star Trek movies to be high...</td>\n",
       "      <td>negative</td>\n",
       "    </tr>\n",
       "  </tbody>\n",
       "</table>\n",
       "<p>50000 rows × 2 columns</p>\n",
       "</div>"
      ],
      "text/plain": [
       "                                                  review sentiment\n",
       "0      One of the other reviewers has mentioned that ...  positive\n",
       "1      A wonderful little production. The filming tec...  positive\n",
       "2      I thought this was a wonderful way to spend ti...  positive\n",
       "3      Basically there's a family where a little boy ...  negative\n",
       "4      Petter Mattei's \"Love in the Time of Money\" is...  positive\n",
       "...                                                  ...       ...\n",
       "49995  I thought this movie did a down right good job...  positive\n",
       "49996  Bad plot, bad dialogue, bad acting, idiotic di...  negative\n",
       "49997  I am a Catholic taught in parochial elementary...  negative\n",
       "49998  I'm going to have to disagree with the previou...  negative\n",
       "49999  No one expects the Star Trek movies to be high...  negative\n",
       "\n",
       "[50000 rows x 2 columns]"
      ]
     },
     "execution_count": 60,
     "metadata": {},
     "output_type": "execute_result"
    }
   ],
   "source": [
    "data"
   ]
  },
  {
   "cell_type": "code",
   "execution_count": 61,
   "id": "dde5a8a7",
   "metadata": {},
   "outputs": [],
   "source": [
    "def rmv_url(txt):\n",
    "    pattern=re.compile(r'https?://\\S+|www\\.\\S+')\n",
    "    return pattern.sub(\"\",txt)"
   ]
  },
  {
   "cell_type": "code",
   "execution_count": 62,
   "id": "434ade43",
   "metadata": {},
   "outputs": [],
   "source": [
    "data['review']=data['review'].apply(rmv_url)"
   ]
  },
  {
   "cell_type": "code",
   "execution_count": 63,
   "id": "9d624b3d",
   "metadata": {},
   "outputs": [],
   "source": [
    "import string"
   ]
  },
  {
   "cell_type": "code",
   "execution_count": 64,
   "id": "d641dc90",
   "metadata": {},
   "outputs": [],
   "source": [
    "exclude= string.punctuation.replace(\".\", \"\")"
   ]
  },
  {
   "cell_type": "code",
   "execution_count": 65,
   "id": "c26a72e6",
   "metadata": {},
   "outputs": [
    {
     "data": {
      "text/plain": [
       "'\\nimport string\\n\\nexclude = string.punctuation.replace(\".\", \"\")\\ntable = str.maketrans(\"\", \"\", exclude)\\n\\ndef rmv_punc(txt):\\n    return txt.translate(table)\\n    \\n'"
      ]
     },
     "execution_count": 65,
     "metadata": {},
     "output_type": "execute_result"
    }
   ],
   "source": [
    "def rmv_punc(txt):\n",
    "    for c in exclude:\n",
    "        txt=txt.replace(c,\"\")\n",
    "    return txt\n",
    "\n",
    "\"\"\"\n",
    "import string\n",
    "\n",
    "exclude = string.punctuation.replace(\".\", \"\")\n",
    "table = str.maketrans(\"\", \"\", exclude)\n",
    "\n",
    "def rmv_punc(txt):\n",
    "    return txt.translate(table)\n",
    "    \n",
    "\"\"\""
   ]
  },
  {
   "cell_type": "code",
   "execution_count": 66,
   "id": "49dbe823",
   "metadata": {},
   "outputs": [],
   "source": [
    "data['review']=data['review'].apply(rmv_punc)"
   ]
  },
  {
   "cell_type": "code",
   "execution_count": 67,
   "id": "a085a917",
   "metadata": {},
   "outputs": [
    {
     "data": {
      "text/html": [
       "<div>\n",
       "<style scoped>\n",
       "    .dataframe tbody tr th:only-of-type {\n",
       "        vertical-align: middle;\n",
       "    }\n",
       "\n",
       "    .dataframe tbody tr th {\n",
       "        vertical-align: top;\n",
       "    }\n",
       "\n",
       "    .dataframe thead th {\n",
       "        text-align: right;\n",
       "    }\n",
       "</style>\n",
       "<table border=\"1\" class=\"dataframe\">\n",
       "  <thead>\n",
       "    <tr style=\"text-align: right;\">\n",
       "      <th></th>\n",
       "      <th>review</th>\n",
       "      <th>sentiment</th>\n",
       "    </tr>\n",
       "  </thead>\n",
       "  <tbody>\n",
       "    <tr>\n",
       "      <th>0</th>\n",
       "      <td>One of the other reviewers has mentioned that ...</td>\n",
       "      <td>positive</td>\n",
       "    </tr>\n",
       "    <tr>\n",
       "      <th>1</th>\n",
       "      <td>A wonderful little production. The filming tec...</td>\n",
       "      <td>positive</td>\n",
       "    </tr>\n",
       "    <tr>\n",
       "      <th>2</th>\n",
       "      <td>I thought this was a wonderful way to spend ti...</td>\n",
       "      <td>positive</td>\n",
       "    </tr>\n",
       "    <tr>\n",
       "      <th>3</th>\n",
       "      <td>Basically theres a family where a little boy J...</td>\n",
       "      <td>negative</td>\n",
       "    </tr>\n",
       "    <tr>\n",
       "      <th>4</th>\n",
       "      <td>Petter Matteis Love in the Time of Money is a ...</td>\n",
       "      <td>positive</td>\n",
       "    </tr>\n",
       "    <tr>\n",
       "      <th>...</th>\n",
       "      <td>...</td>\n",
       "      <td>...</td>\n",
       "    </tr>\n",
       "    <tr>\n",
       "      <th>49995</th>\n",
       "      <td>I thought this movie did a down right good job...</td>\n",
       "      <td>positive</td>\n",
       "    </tr>\n",
       "    <tr>\n",
       "      <th>49996</th>\n",
       "      <td>Bad plot bad dialogue bad acting idiotic direc...</td>\n",
       "      <td>negative</td>\n",
       "    </tr>\n",
       "    <tr>\n",
       "      <th>49997</th>\n",
       "      <td>I am a Catholic taught in parochial elementary...</td>\n",
       "      <td>negative</td>\n",
       "    </tr>\n",
       "    <tr>\n",
       "      <th>49998</th>\n",
       "      <td>Im going to have to disagree with the previous...</td>\n",
       "      <td>negative</td>\n",
       "    </tr>\n",
       "    <tr>\n",
       "      <th>49999</th>\n",
       "      <td>No one expects the Star Trek movies to be high...</td>\n",
       "      <td>negative</td>\n",
       "    </tr>\n",
       "  </tbody>\n",
       "</table>\n",
       "<p>50000 rows × 2 columns</p>\n",
       "</div>"
      ],
      "text/plain": [
       "                                                  review sentiment\n",
       "0      One of the other reviewers has mentioned that ...  positive\n",
       "1      A wonderful little production. The filming tec...  positive\n",
       "2      I thought this was a wonderful way to spend ti...  positive\n",
       "3      Basically theres a family where a little boy J...  negative\n",
       "4      Petter Matteis Love in the Time of Money is a ...  positive\n",
       "...                                                  ...       ...\n",
       "49995  I thought this movie did a down right good job...  positive\n",
       "49996  Bad plot bad dialogue bad acting idiotic direc...  negative\n",
       "49997  I am a Catholic taught in parochial elementary...  negative\n",
       "49998  Im going to have to disagree with the previous...  negative\n",
       "49999  No one expects the Star Trek movies to be high...  negative\n",
       "\n",
       "[50000 rows x 2 columns]"
      ]
     },
     "execution_count": 67,
     "metadata": {},
     "output_type": "execute_result"
    }
   ],
   "source": [
    "data"
   ]
  },
  {
   "cell_type": "code",
   "execution_count": 68,
   "id": "68d3d0a4",
   "metadata": {},
   "outputs": [],
   "source": [
    "import textblob"
   ]
  },
  {
   "cell_type": "code",
   "execution_count": 69,
   "id": "40af5804",
   "metadata": {},
   "outputs": [
    {
     "data": {
      "text/plain": [
       "'Basically theres a family where a little boy Jake thinks theres a zombie in his closet  his parents are fighting all the time.This movie is slower than a soap opera... and suddenly Jake decides to become Rambo and kill the zombie.OK first of all when youre going to make a film you must Decide if its a thriller or a drama As a drama the movie is watchable. Parents are divorcing  arguing like in real life. And then we have Jake with his closet which totally ruins all the film I expected to see a BOOGEYMAN similar movie and instead i watched a drama with some meaningless thriller spots.3 out of 10 just for the well playing parents  descent dialogs. As for the shots with Jake just ignore them.'"
      ]
     },
     "execution_count": 69,
     "metadata": {},
     "output_type": "execute_result"
    }
   ],
   "source": [
    "text=data['review'][3]\n",
    "text"
   ]
  },
  {
   "cell_type": "code",
   "execution_count": null,
   "id": "9fb24076",
   "metadata": {},
   "outputs": [],
   "source": []
  },
  {
   "cell_type": "code",
   "execution_count": 70,
   "id": "0d03f730",
   "metadata": {},
   "outputs": [
    {
     "data": {
      "text/plain": [
       "TextBlob(\"Basically there a family where a little boy Take thinks there a combine in his closet  his parents are fighting all the time.His movie is slower than a soap opera... and suddenly Take decides to become Lumbo and kill the combine.of first of all when your going to make a film you must Decide if its a thrilled or a drama Is a drama the movie is watchable. Parents are diverting  arguing like in real life. And then we have Take with his closet which totally ruins all the film I expected to see a BOOGEYMAN similar movie and instead i watched a drama with some meaningless thrilled spots.3 out of 10 just for the well playing parents  descent dialogue. Is for the shots with Take just ignore them.\")"
      ]
     },
     "execution_count": 70,
     "metadata": {},
     "output_type": "execute_result"
    }
   ],
   "source": [
    "from textblob import TextBlob\n",
    "txtBlob=TextBlob(text)\n",
    "txtBlob.correct()"
   ]
  },
  {
   "cell_type": "code",
   "execution_count": 71,
   "id": "4b7518af",
   "metadata": {},
   "outputs": [],
   "source": [
    "from nltk.corpus import stopwords"
   ]
  },
  {
   "cell_type": "code",
   "execution_count": 72,
   "id": "bd12bf49",
   "metadata": {},
   "outputs": [],
   "source": [
    "def rmv_stopwords(txt):\n",
    "    sen=[]\n",
    "    for w in txt.split():\n",
    "        if w.lower() not in stopwords.words('english'):\n",
    "            sen.append(w)\n",
    "    return \" \".join(sen)"
   ]
  },
  {
   "cell_type": "code",
   "execution_count": 73,
   "id": "46835a26",
   "metadata": {},
   "outputs": [],
   "source": [
    "text1=rmv_stopwords(text)"
   ]
  },
  {
   "cell_type": "code",
   "execution_count": 74,
   "id": "f23ffd2f",
   "metadata": {},
   "outputs": [
    {
     "data": {
      "text/plain": [
       "['Basically theres family little boy Jake thinks theres zombie closet parents fighting time',\n",
       " 'This movie slower soap opera',\n",
       " '',\n",
       " '',\n",
       " ' suddenly Jake decides become Rambo kill zombie',\n",
       " 'OK first youre going make film must Decide thriller drama drama movie watchable',\n",
       " ' Parents divorcing arguing like real life',\n",
       " ' Jake closet totally ruins film expected see BOOGEYMAN similar movie instead watched drama meaningless thriller spots',\n",
       " '3 10 well playing parents descent dialogs',\n",
       " ' shots Jake ignore them',\n",
       " '']"
      ]
     },
     "execution_count": 74,
     "metadata": {},
     "output_type": "execute_result"
    }
   ],
   "source": [
    "text1.split(\".\")"
   ]
  },
  {
   "cell_type": "code",
   "execution_count": 76,
   "id": "9412b376",
   "metadata": {},
   "outputs": [],
   "source": [
    "from nltk.tokenize import word_tokenize, sent_tokenize"
   ]
  },
  {
   "cell_type": "code",
   "execution_count": 78,
   "id": "ace568a8",
   "metadata": {},
   "outputs": [
    {
     "data": {
      "text/plain": [
       "['Basically theres family little boy Jake thinks theres zombie closet parents fighting time.This movie slower soap opera... suddenly Jake decides become Rambo kill zombie.OK first youre going make film must Decide thriller drama drama movie watchable.',\n",
       " 'Parents divorcing arguing like real life.',\n",
       " 'Jake closet totally ruins film expected see BOOGEYMAN similar movie instead watched drama meaningless thriller spots.3 10 well playing parents descent dialogs.',\n",
       " 'shots Jake ignore them.']"
      ]
     },
     "execution_count": 78,
     "metadata": {},
     "output_type": "execute_result"
    }
   ],
   "source": [
    "sent_tokenize(text1)"
   ]
  },
  {
   "cell_type": "code",
   "execution_count": 82,
   "id": "e06a0a75",
   "metadata": {},
   "outputs": [],
   "source": [
    "from nltk.stem import PorterStemmer\n",
    "\n",
    "def stemming(txt):\n",
    "    obj=PorterStemmer()\n",
    "    stem_word=[obj.stem(w) for w in txt.split()]\n",
    "    return stem_word "
   ]
  },
  {
   "cell_type": "code",
   "execution_count": 84,
   "id": "c7fe2e4c",
   "metadata": {},
   "outputs": [
    {
     "data": {
      "text/plain": [
       "['basic',\n",
       " 'there',\n",
       " 'famili',\n",
       " 'littl',\n",
       " 'boy',\n",
       " 'jake',\n",
       " 'think',\n",
       " 'there',\n",
       " 'zombi',\n",
       " 'closet',\n",
       " 'parent',\n",
       " 'fight',\n",
       " 'time.thi',\n",
       " 'movi',\n",
       " 'slower',\n",
       " 'soap',\n",
       " 'opera...',\n",
       " 'suddenli',\n",
       " 'jake',\n",
       " 'decid',\n",
       " 'becom',\n",
       " 'rambo',\n",
       " 'kill',\n",
       " 'zombie.ok',\n",
       " 'first',\n",
       " 'your',\n",
       " 'go',\n",
       " 'make',\n",
       " 'film',\n",
       " 'must',\n",
       " 'decid',\n",
       " 'thriller',\n",
       " 'drama',\n",
       " 'drama',\n",
       " 'movi',\n",
       " 'watchable.',\n",
       " 'parent',\n",
       " 'divorc',\n",
       " 'argu',\n",
       " 'like',\n",
       " 'real',\n",
       " 'life.',\n",
       " 'jake',\n",
       " 'closet',\n",
       " 'total',\n",
       " 'ruin',\n",
       " 'film',\n",
       " 'expect',\n",
       " 'see',\n",
       " 'boogeyman',\n",
       " 'similar',\n",
       " 'movi',\n",
       " 'instead',\n",
       " 'watch',\n",
       " 'drama',\n",
       " 'meaningless',\n",
       " 'thriller',\n",
       " 'spots.3',\n",
       " '10',\n",
       " 'well',\n",
       " 'play',\n",
       " 'parent',\n",
       " 'descent',\n",
       " 'dialogs.',\n",
       " 'shot',\n",
       " 'jake',\n",
       " 'ignor',\n",
       " 'them.']"
      ]
     },
     "execution_count": 84,
     "metadata": {},
     "output_type": "execute_result"
    }
   ],
   "source": [
    "stemming(text1)"
   ]
  },
  {
   "cell_type": "code",
   "execution_count": 85,
   "id": "c479e8df",
   "metadata": {},
   "outputs": [],
   "source": [
    "from nltk.stem import WordNetLemmatizer\n",
    "def lemm(txt):\n",
    "    words=txt.split()\n",
    "    lemmit=WordNetLemmatizer()\n",
    "    l=[lemmit.lemmatize(w) for w in words]\n",
    "    return l"
   ]
  },
  {
   "cell_type": "code",
   "execution_count": 86,
   "id": "8842135b",
   "metadata": {},
   "outputs": [
    {
     "data": {
      "text/plain": [
       "['Basically',\n",
       " 'there',\n",
       " 'family',\n",
       " 'little',\n",
       " 'boy',\n",
       " 'Jake',\n",
       " 'think',\n",
       " 'there',\n",
       " 'zombie',\n",
       " 'closet',\n",
       " 'parent',\n",
       " 'fighting',\n",
       " 'time.This',\n",
       " 'movie',\n",
       " 'slower',\n",
       " 'soap',\n",
       " 'opera...',\n",
       " 'suddenly',\n",
       " 'Jake',\n",
       " 'decides',\n",
       " 'become',\n",
       " 'Rambo',\n",
       " 'kill',\n",
       " 'zombie.OK',\n",
       " 'first',\n",
       " 'youre',\n",
       " 'going',\n",
       " 'make',\n",
       " 'film',\n",
       " 'must',\n",
       " 'Decide',\n",
       " 'thriller',\n",
       " 'drama',\n",
       " 'drama',\n",
       " 'movie',\n",
       " 'watchable.',\n",
       " 'Parents',\n",
       " 'divorcing',\n",
       " 'arguing',\n",
       " 'like',\n",
       " 'real',\n",
       " 'life.',\n",
       " 'Jake',\n",
       " 'closet',\n",
       " 'totally',\n",
       " 'ruin',\n",
       " 'film',\n",
       " 'expected',\n",
       " 'see',\n",
       " 'BOOGEYMAN',\n",
       " 'similar',\n",
       " 'movie',\n",
       " 'instead',\n",
       " 'watched',\n",
       " 'drama',\n",
       " 'meaningless',\n",
       " 'thriller',\n",
       " 'spots.3',\n",
       " '10',\n",
       " 'well',\n",
       " 'playing',\n",
       " 'parent',\n",
       " 'descent',\n",
       " 'dialogs.',\n",
       " 'shot',\n",
       " 'Jake',\n",
       " 'ignore',\n",
       " 'them.']"
      ]
     },
     "execution_count": 86,
     "metadata": {},
     "output_type": "execute_result"
    }
   ],
   "source": [
    "lemm(text1)"
   ]
  },
  {
   "cell_type": "code",
   "execution_count": null,
   "id": "f55183cf",
   "metadata": {},
   "outputs": [],
   "source": []
  }
 ],
 "metadata": {
  "kernelspec": {
   "display_name": "Python 3",
   "language": "python",
   "name": "python3"
  },
  "language_info": {
   "codemirror_mode": {
    "name": "ipython",
    "version": 3
   },
   "file_extension": ".py",
   "mimetype": "text/x-python",
   "name": "python",
   "nbconvert_exporter": "python",
   "pygments_lexer": "ipython3",
   "version": "3.11.4"
  }
 },
 "nbformat": 4,
 "nbformat_minor": 5
}
